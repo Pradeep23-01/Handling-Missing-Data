{
  "nbformat": 4,
  "nbformat_minor": 0,
  "metadata": {
    "colab": {
      "name": "Missing_Gen_Mean.ipynb",
      "provenance": [],
      "authorship_tag": "ABX9TyNpjGCiaBQjDTnNH+gqXTIz",
      "include_colab_link": true
    },
    "kernelspec": {
      "name": "python3",
      "display_name": "Python 3"
    }
  },
  "cells": [
    {
      "cell_type": "markdown",
      "metadata": {
        "id": "view-in-github",
        "colab_type": "text"
      },
      "source": [
        "<a href=\"https://colab.research.google.com/github/Pradeep23-01/Handling-Missing-Data/blob/main/Missing_Gen_Mean.ipynb\" target=\"_parent\"><img src=\"https://colab.research.google.com/assets/colab-badge.svg\" alt=\"Open In Colab\"/></a>"
      ]
    },
    {
      "cell_type": "code",
      "metadata": {
        "id": "-c1K2o-M6nd2"
      },
      "source": [
        "import numpy as np\n",
        "import pandas as pd"
      ],
      "execution_count": null,
      "outputs": []
    },
    {
      "cell_type": "code",
      "metadata": {
        "id": "Kxxqkjsp6rED"
      },
      "source": [
        "dataset=pd.read_csv(\"Social_Network_Ads1.csv\")\n",
        "data=dataset.dropna(0).values"
      ],
      "execution_count": null,
      "outputs": []
    },
    {
      "cell_type": "code",
      "metadata": {
        "id": "GWrYdBSr6x4v"
      },
      "source": [
        "for j in range(len(dataset.columns)):\n",
        "  for i in range(len(dataset)):\n",
        "    \n",
        "    if np.isnan(dataset.iloc[i,j]):\n",
        "      dataset.iloc[i,j]=dataset.iloc[:,j].mean()\n",
        "      "
      ],
      "execution_count": null,
      "outputs": []
    },
    {
      "cell_type": "code",
      "metadata": {
        "id": "Y-WDytQAJ8vv",
        "colab": {
          "base_uri": "https://localhost:8080/",
          "height": 255
        },
        "outputId": "17f37fe8-2b23-4e2e-e4bc-e78acba16aba"
      },
      "source": [
        "print(dataset)"
      ],
      "execution_count": null,
      "outputs": [
        {
          "output_type": "stream",
          "text": [
            "           Age  EstimatedSalary  Purchased\n",
            "0    19.000000     19000.000000          0\n",
            "1    35.000000     20000.000000          0\n",
            "2    37.629723     43000.000000          0\n",
            "3    27.000000     57000.000000          0\n",
            "4    19.000000     76000.000000          0\n",
            "..         ...              ...        ...\n",
            "395  46.000000     41000.000000          1\n",
            "396  51.000000     23000.000000          1\n",
            "397  37.629723     20000.000000          1\n",
            "398  36.000000     33000.000000          0\n",
            "399  49.000000     69871.859296          1\n",
            "\n",
            "[400 rows x 3 columns]\n"
          ],
          "name": "stdout"
        }
      ]
    }
  ]
}