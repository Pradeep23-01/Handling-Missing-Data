{
  "nbformat": 4,
  "nbformat_minor": 0,
  "metadata": {
    "colab": {
      "name": "Missing_Gen_Median.ipynb",
      "provenance": [],
      "authorship_tag": "ABX9TyOSL6ERai7k6Yn39QaaYR8b",
      "include_colab_link": true
    },
    "kernelspec": {
      "name": "python3",
      "display_name": "Python 3"
    }
  },
  "cells": [
    {
      "cell_type": "markdown",
      "metadata": {
        "id": "view-in-github",
        "colab_type": "text"
      },
      "source": [
        "<a href=\"https://colab.research.google.com/github/Pradeep23-01/Handling-Missing-Data/blob/main/Missing_Gen_Median.ipynb\" target=\"_parent\"><img src=\"https://colab.research.google.com/assets/colab-badge.svg\" alt=\"Open In Colab\"/></a>"
      ]
    },
    {
      "cell_type": "code",
      "metadata": {
        "id": "-c1K2o-M6nd2"
      },
      "source": [
        "import numpy as np\n",
        "import pandas as pd"
      ],
      "execution_count": null,
      "outputs": []
    },
    {
      "cell_type": "code",
      "metadata": {
        "id": "Kxxqkjsp6rED"
      },
      "source": [
        "dataset=pd.read_csv(\"Social_Network_Ads1.csv\")"
      ],
      "execution_count": null,
      "outputs": []
    },
    {
      "cell_type": "code",
      "metadata": {
        "id": "GWrYdBSr6x4v"
      },
      "source": [
        "for j in range(len(dataset.columns)):\n",
        "  for i in range(len(dataset)):\n",
        "    \n",
        "    if np.isnan(dataset.iloc[i,j]):\n",
        "      dataset.iloc[i,j]=dataset.iloc[:,j].median()"
      ],
      "execution_count": null,
      "outputs": []
    },
    {
      "cell_type": "code",
      "metadata": {
        "id": "Y-WDytQAJ8vv",
        "colab": {
          "base_uri": "https://localhost:8080/",
          "height": 255
        },
        "outputId": "7772d7ce-a56c-4276-9ca2-2398629bfdf9"
      },
      "source": [
        "print(dataset)"
      ],
      "execution_count": null,
      "outputs": [
        {
          "output_type": "stream",
          "text": [
            "      Age  EstimatedSalary  Purchased\n",
            "0    19.0          19000.0          0\n",
            "1    35.0          20000.0          0\n",
            "2    37.0          43000.0          0\n",
            "3    27.0          57000.0          0\n",
            "4    19.0          76000.0          0\n",
            "..    ...              ...        ...\n",
            "395  46.0          41000.0          1\n",
            "396  51.0          23000.0          1\n",
            "397  37.0          20000.0          1\n",
            "398  36.0          33000.0          0\n",
            "399  49.0          70000.0          1\n",
            "\n",
            "[400 rows x 3 columns]\n"
          ],
          "name": "stdout"
        }
      ]
    }
  ]
}