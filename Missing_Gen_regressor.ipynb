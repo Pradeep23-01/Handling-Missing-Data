{
  "nbformat": 4,
  "nbformat_minor": 0,
  "metadata": {
    "colab": {
      "name": "Missing_Gen_regressor.ipynb",
      "provenance": [],
      "authorship_tag": "ABX9TyOvBZzH5bQACy04eWIgAuH/",
      "include_colab_link": true
    },
    "kernelspec": {
      "name": "python3",
      "display_name": "Python 3"
    }
  },
  "cells": [
    {
      "cell_type": "markdown",
      "metadata": {
        "id": "view-in-github",
        "colab_type": "text"
      },
      "source": [
        "<a href=\"https://colab.research.google.com/github/Pradeep23-01/Handling-Missing-Data/blob/main/Missing_Gen_regressor.ipynb\" target=\"_parent\"><img src=\"https://colab.research.google.com/assets/colab-badge.svg\" alt=\"Open In Colab\"/></a>"
      ]
    },
    {
      "cell_type": "code",
      "metadata": {
        "id": "-c1K2o-M6nd2"
      },
      "source": [
        "import numpy as np\n",
        "import pandas as pd"
      ],
      "execution_count": null,
      "outputs": []
    },
    {
      "cell_type": "code",
      "metadata": {
        "id": "Kxxqkjsp6rED"
      },
      "source": [
        "dataset=pd.read_csv(\"Book2.csv\")\n",
        "data=dataset.dropna(0).values"
      ],
      "execution_count": null,
      "outputs": []
    },
    {
      "cell_type": "code",
      "metadata": {
        "id": "YfNPdpqQBSM6"
      },
      "source": [
        "from sklearn.linear_model import LinearRegression"
      ],
      "execution_count": null,
      "outputs": []
    },
    {
      "cell_type": "code",
      "metadata": {
        "id": "GWrYdBSr6x4v"
      },
      "source": [
        "for j in range(len(dataset.columns)):\n",
        "  for i in range(len(dataset)):\n",
        "\n",
        "    if np.isnan(dataset.iloc[i,0]):\n",
        "      dataset.iloc[i,0]=np.mean(dataset.iloc[:,0])\n",
        "    \n",
        "    ds=dataset.iloc[:,0:j+1].dropna(0)\n",
        "    X=ds.iloc[:,0:j+1]\n",
        "    Y=ds.iloc[:,-1]\n",
        "\n",
        "    regressor=LinearRegression()\n",
        "    regressor.fit(X,Y)\n",
        "    \n",
        "    \n",
        "    if np.isnan(dataset.iloc[i,j]):\n",
        "      dataset.iloc[i,j]=regressor.predict([X.iloc[i]])\n",
        "      \n",
        "  "
      ],
      "execution_count": null,
      "outputs": []
    },
    {
      "cell_type": "code",
      "metadata": {
        "id": "Y-WDytQAJ8vv",
        "colab": {
          "base_uri": "https://localhost:8080/",
          "height": 1000
        },
        "outputId": "7e28637d-ddd5-4b85-9641-6fac7a932470"
      },
      "source": [
        "print(dataset)"
      ],
      "execution_count": null,
      "outputs": [
        {
          "output_type": "stream",
          "text": [
            "    math score  reading score  writing score\n",
            "0    72.000000           72.0           74.0\n",
            "1    69.000000           90.0           88.0\n",
            "2    90.000000           95.0           93.0\n",
            "3    47.000000           57.0           44.0\n",
            "4    76.000000           78.0           75.0\n",
            "5    71.000000           83.0           78.0\n",
            "6    88.000000           95.0           92.0\n",
            "7    40.000000           43.0           39.0\n",
            "8    64.000000           64.0           67.0\n",
            "9    38.000000           60.0           50.0\n",
            "10   61.431034           54.0           52.0\n",
            "11   40.000000           52.0           43.0\n",
            "12   65.000000           81.0           73.0\n",
            "13   78.000000           72.0           70.0\n",
            "14   50.000000           53.0           58.0\n",
            "15   69.000000           75.0           78.0\n",
            "16   61.431034           89.0           86.0\n",
            "17   18.000000           32.0           28.0\n",
            "18   46.000000           42.0           46.0\n",
            "19   54.000000           58.0           61.0\n",
            "20   66.000000           69.0           63.0\n",
            "21   65.000000           75.0           70.0\n",
            "22   44.000000           54.0           53.0\n",
            "23   69.000000           73.0           73.0\n",
            "24   74.000000           71.0           80.0\n",
            "25   73.000000           74.0           72.0\n",
            "26   69.000000           54.0           55.0\n",
            "27   67.000000           69.0           75.0\n",
            "28   70.000000           70.0           65.0\n",
            "29   62.000000           70.0           75.0\n",
            "30   69.000000           74.0           74.0\n",
            "31   63.000000           72.0           61.0\n",
            "32   56.000000           72.0           65.0\n",
            "33   40.000000           42.0           38.0\n",
            "34   97.000000           87.0           82.0\n",
            "35   81.000000           81.0           79.0\n",
            "36   74.000000           64.0           83.0\n",
            "37   50.000000           64.0           59.0\n",
            "38   75.000000           90.0           88.0\n",
            "39   57.000000           56.0           54.0\n",
            "40   55.000000           73.0           54.0\n",
            "41   58.000000           73.0           68.0\n",
            "42   53.000000           58.0           65.0\n",
            "43   59.000000           65.0           54.0\n",
            "44   50.000000           56.0           54.0\n",
            "45   65.000000           54.0           57.0\n",
            "46   55.000000           71.0           62.0\n",
            "47   66.000000           71.0           76.0\n",
            "48   57.000000           74.0           76.0\n",
            "49   82.000000           84.0           82.0\n",
            "50   53.000000           55.0           48.0\n",
            "51   77.000000           69.0           68.0\n",
            "52   53.000000           44.0           42.0\n",
            "53   88.000000           78.0           75.0\n",
            "54   71.000000           84.0           87.0\n",
            "55   33.000000           41.0           43.0\n",
            "56   82.000000           85.0           86.0\n",
            "57   52.000000           55.0           49.0\n",
            "58   58.000000           59.0           58.0\n",
            "59    0.000000           17.0           10.0\n"
          ],
          "name": "stdout"
        }
      ]
    }
  ]
}