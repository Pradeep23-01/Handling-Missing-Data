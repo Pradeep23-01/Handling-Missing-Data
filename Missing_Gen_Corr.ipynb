{
  "nbformat": 4,
  "nbformat_minor": 0,
  "metadata": {
    "colab": {
      "name": "Missing_Gen_Corr.ipynb",
      "provenance": [],
      "collapsed_sections": [],
      "authorship_tag": "ABX9TyPpz89Qo2l5tJ4hKCrvdKax",
      "include_colab_link": true
    },
    "kernelspec": {
      "name": "python3",
      "display_name": "Python 3"
    }
  },
  "cells": [
    {
      "cell_type": "markdown",
      "metadata": {
        "id": "view-in-github",
        "colab_type": "text"
      },
      "source": [
        "<a href=\"https://colab.research.google.com/github/Pradeep23-01/Handling-Missing-Data/blob/main/Missing_Gen_Corr.ipynb\" target=\"_parent\"><img src=\"https://colab.research.google.com/assets/colab-badge.svg\" alt=\"Open In Colab\"/></a>"
      ]
    },
    {
      "cell_type": "code",
      "metadata": {
        "id": "XWUi5VnXPZKC"
      },
      "source": [
        "import numpy as np\n",
        "import pandas as pd"
      ],
      "execution_count": null,
      "outputs": []
    },
    {
      "cell_type": "code",
      "metadata": {
        "id": "Sc1XKCY8PcQF"
      },
      "source": [
        "dataset=pd.read_csv(\"Book2.csv\")"
      ],
      "execution_count": null,
      "outputs": []
    },
    {
      "cell_type": "code",
      "metadata": {
        "id": "1qgqfzA8PhxO"
      },
      "source": [
        "for j in range(len(dataset.columns)):\n",
        "  for i in range(len(dataset)):\n",
        "    \n",
        "    if np.isnan(dataset.iloc[i,j]):\n",
        "      c=[]\n",
        "      for k in range(len(dataset.columns)):\n",
        "        if k!=j:\n",
        "          c.append(dataset.iloc[:,j].corr(dataset.iloc[:,k]))\n",
        "        if c.index(max(c)):\n",
        "          k\n",
        "      dataset.iloc[i,j]=dataset.iloc[i,k]\n",
        "\n",
        "    \n"
      ],
      "execution_count": null,
      "outputs": []
    },
    {
      "cell_type": "code",
      "metadata": {
        "id": "o3tD0MbTqYHD",
        "colab": {
          "base_uri": "https://localhost:8080/",
          "height": 1000
        },
        "outputId": "9d57a4f0-8447-4722-fd1b-40579eef4992"
      },
      "source": [
        "print(dataset)"
      ],
      "execution_count": null,
      "outputs": [
        {
          "output_type": "stream",
          "text": [
            "    math score  reading score  writing score\n",
            "0         72.0           72.0           74.0\n",
            "1         69.0           90.0           88.0\n",
            "2         90.0           95.0           93.0\n",
            "3         47.0           57.0           44.0\n",
            "4         76.0           78.0           75.0\n",
            "5         71.0           83.0           78.0\n",
            "6         88.0           95.0           92.0\n",
            "7         40.0           43.0           39.0\n",
            "8         64.0           64.0           67.0\n",
            "9         38.0           60.0           50.0\n",
            "10        54.0           54.0           52.0\n",
            "11        40.0           52.0           43.0\n",
            "12        65.0           81.0           73.0\n",
            "13        78.0           72.0           70.0\n",
            "14        50.0           53.0           58.0\n",
            "15        69.0           75.0           78.0\n",
            "16        89.0           89.0           86.0\n",
            "17        18.0           32.0           28.0\n",
            "18        46.0           42.0           46.0\n",
            "19        54.0           58.0           61.0\n",
            "20        66.0           69.0           63.0\n",
            "21        65.0           75.0           70.0\n",
            "22        44.0           54.0           53.0\n",
            "23        69.0           73.0           73.0\n",
            "24        74.0           71.0           80.0\n",
            "25        73.0           74.0           72.0\n",
            "26        69.0           54.0           55.0\n",
            "27        67.0           69.0           75.0\n",
            "28        70.0           70.0           65.0\n",
            "29        62.0           70.0           75.0\n",
            "30        69.0           74.0           74.0\n",
            "31        63.0           61.0           61.0\n",
            "32        56.0           72.0           65.0\n",
            "33        40.0           42.0           38.0\n",
            "34        97.0           87.0           82.0\n",
            "35        81.0           81.0           79.0\n",
            "36        74.0           83.0           83.0\n",
            "37        50.0           64.0           59.0\n",
            "38        75.0           90.0           88.0\n",
            "39        57.0           56.0           56.0\n",
            "40        55.0           54.0           54.0\n",
            "41        58.0           73.0           68.0\n",
            "42        53.0           58.0           65.0\n",
            "43        59.0           65.0           65.0\n",
            "44        50.0           56.0           54.0\n",
            "45        65.0           54.0           57.0\n",
            "46        55.0           62.0           62.0\n",
            "47        66.0           71.0           71.0\n",
            "48        57.0           74.0           76.0\n",
            "49        82.0           84.0           82.0\n",
            "50        53.0           55.0           48.0\n",
            "51        77.0           69.0           68.0\n",
            "52        53.0           44.0           42.0\n",
            "53        88.0           78.0           75.0\n",
            "54        71.0           84.0           87.0\n",
            "55        33.0           41.0           43.0\n",
            "56        82.0           85.0           86.0\n",
            "57        52.0           55.0           49.0\n",
            "58        58.0           59.0           58.0\n",
            "59         0.0           17.0           10.0\n"
          ],
          "name": "stdout"
        }
      ]
    }
  ]
}